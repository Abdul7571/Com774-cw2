{
 "cells": [
  {
   "cell_type": "code",
   "execution_count": 1,
   "id": "5fca69c0-70a5-44af-9935-a936493ba0d3",
   "metadata": {},
   "outputs": [],
   "source": [
    "import pandas as pd\n",
    "\n",
    "# Replace these paths with the actual paths of your downloaded files\n",
    "train_file = 'HAR/train.csv'\n",
    "test_file = 'HAR/test.csv'\n",
    "\n",
    "# Load the datasets\n",
    "train_data = pd.read_csv(train_file)\n",
    "test_data = pd.read_csv(test_file)\n",
    "\n",
    "# Separate features and labels\n",
    "X_train = train_data.drop('Activity', axis=1)\n",
    "y_train = train_data['Activity']\n",
    "X_test = test_data.drop('Activity', axis=1)\n",
    "y_test = test_data['Activity']\n",
    "\n"
   ]
  },
  {
   "cell_type": "code",
   "execution_count": 2,
   "id": "7b529e7e-0359-4f8d-9fe9-c607845028ea",
   "metadata": {},
   "outputs": [
    {
     "name": "stdout",
     "output_type": "stream",
     "text": [
      "                    precision    recall  f1-score   support\n",
      "\n",
      "            LAYING       1.00      1.00      1.00       537\n",
      "           SITTING       0.91      0.90      0.91       491\n",
      "          STANDING       0.91      0.92      0.91       532\n",
      "           WALKING       0.89      0.96      0.93       496\n",
      "WALKING_DOWNSTAIRS       0.97      0.85      0.91       420\n",
      "  WALKING_UPSTAIRS       0.88      0.91      0.90       471\n",
      "\n",
      "          accuracy                           0.93      2947\n",
      "         macro avg       0.93      0.92      0.92      2947\n",
      "      weighted avg       0.93      0.93      0.93      2947\n",
      "\n"
     ]
    }
   ],
   "source": [
    "from sklearn.ensemble import RandomForestClassifier\n",
    "from sklearn.metrics import classification_report\n",
    "\n",
    "# Initialize the RandomForestClassifier\n",
    "model = RandomForestClassifier(n_estimators=100, random_state=42)\n",
    "\n",
    "# Train the model\n",
    "model.fit(X_train, y_train)\n",
    "\n",
    "# Make predictions\n",
    "predictions = model.predict(X_test)\n",
    "\n",
    "# Evaluate the model\n",
    "print(classification_report(y_test, predictions))\n",
    "\n"
   ]
  },
  {
   "cell_type": "code",
   "execution_count": null,
   "id": "43d00acd-f9ad-40fe-b090-e9cbaedf728e",
   "metadata": {},
   "outputs": [],
   "source": []
  }
 ],
 "metadata": {
  "kernelspec": {
   "display_name": "Python 3 (ipykernel)",
   "language": "python",
   "name": "python3"
  },
  "language_info": {
   "codemirror_mode": {
    "name": "ipython",
    "version": 3
   },
   "file_extension": ".py",
   "mimetype": "text/x-python",
   "name": "python",
   "nbconvert_exporter": "python",
   "pygments_lexer": "ipython3",
   "version": "3.10.9"
  }
 },
 "nbformat": 4,
 "nbformat_minor": 5
}
